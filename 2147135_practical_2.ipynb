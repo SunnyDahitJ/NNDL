{
  "nbformat": 4,
  "nbformat_minor": 0,
  "metadata": {
    "colab": {
      "provenance": [],
      "include_colab_link": true
    },
    "kernelspec": {
      "name": "python3",
      "display_name": "Python 3"
    },
    "language_info": {
      "name": "python"
    }
  },
  "cells": [
    {
      "cell_type": "markdown",
      "metadata": {
        "id": "view-in-github",
        "colab_type": "text"
      },
      "source": [
        "<a href=\"https://colab.research.google.com/github/SunnyDahitJ/NNDL/blob/main/2147135_practical_2.ipynb\" target=\"_parent\"><img src=\"https://colab.research.google.com/assets/colab-badge.svg\" alt=\"Open In Colab\"/></a>"
      ]
    },
    {
      "cell_type": "markdown",
      "source": [
        "NOT gate"
      ],
      "metadata": {
        "id": "7zCOccRrG4th"
      }
    },
    {
      "cell_type": "code",
      "source": [
        "\n",
        "import numpy as np\n",
        "\n",
        "def unit_step(v):\n",
        "\t\"\"\" Heavyside Step function. v must be a scalar \"\"\"\n",
        "\tif v >= 0:\n",
        "\t\treturn 1\n",
        "\telse:\n",
        "\t\treturn 0\n",
        "\t\n",
        "    \n",
        "\"\"\" Function implemented by a perceptron with weight vector w and bias b \"\"\"\n",
        "def perceptron(x, w, b):\n",
        "\tv = np.dot(w, x) + b\n",
        "\ty = unit_step(v)\n",
        "\treturn y\n",
        "\n",
        "def NOT_percep(x):\n",
        "\treturn perceptron(x, w=-1, b=0.5)\n",
        "\n",
        "print(\"NOT(0) = {}\".format(NOT_percep(0)))\n",
        "print(\"NOT(1) = {}\".format(NOT_percep(1)))"
      ],
      "metadata": {
        "id": "CuUbXAieA0N1",
        "colab": {
          "base_uri": "https://localhost:8080/"
        },
        "outputId": "79a12102-933f-47c6-a68d-6ed8f1fe17b1"
      },
      "execution_count": null,
      "outputs": [
        {
          "output_type": "stream",
          "name": "stdout",
          "text": [
            "NOT(0) = 1\n",
            "NOT(1) = 0\n"
          ]
        }
      ]
    },
    {
      "cell_type": "markdown",
      "source": [],
      "metadata": {
        "id": "Ed_2CsBoG0rc"
      }
    },
    {
      "cell_type": "markdown",
      "source": [
        "AND gate"
      ],
      "metadata": {
        "id": "6N0Xwq6NGqzO"
      }
    },
    {
      "cell_type": "code",
      "source": [
        "def AND_percep(x):\n",
        "    w = np.array([1, 1])\n",
        "    b = -1.5\n",
        "    return perceptron(x, w, b)\n",
        "\n",
        "# Test\n",
        "example1 = np.array([1, 1])\n",
        "example2 = np.array([1, 0])\n",
        "example3 = np.array([0, 1])\n",
        "example4 = np.array([0, 0])\n",
        "\n",
        "print(\"AND({}, {}) = {}\".format(1, 1, AND_percep(example1)))\n",
        "print(\"AND({}, {}) = {}\".format(1, 0, AND_percep(example2)))\n",
        "print(\"AND({}, {}) = {}\".format(0, 1, AND_percep(example3)))\n",
        "print(\"AND({}, {}) = {}\".format(0, 0, AND_percep(example4)))"
      ],
      "metadata": {
        "colab": {
          "base_uri": "https://localhost:8080/"
        },
        "id": "novOXZhQGTdW",
        "outputId": "85b3e050-77be-4ed1-aa94-0ca6333c549f"
      },
      "execution_count": null,
      "outputs": [
        {
          "output_type": "stream",
          "name": "stdout",
          "text": [
            "AND(1, 1) = 1\n",
            "AND(1, 0) = 0\n",
            "AND(0, 1) = 0\n",
            "AND(0, 0) = 0\n"
          ]
        }
      ]
    },
    {
      "cell_type": "markdown",
      "source": [
        "OR gate"
      ],
      "metadata": {
        "id": "psr6mR7XG-HS"
      }
    },
    {
      "cell_type": "code",
      "source": [
        "\n",
        "def OR_percep(x):\n",
        "    w = np.array([1, 1])\n",
        "    b = -0.5\n",
        "    return perceptron(x, w, b)\n",
        "\n",
        "# Test\n",
        "example1 = np.array([1, 1])\n",
        "example2 = np.array([1, 0])\n",
        "example3 = np.array([0, 1])\n",
        "example4 = np.array([0, 0])\n",
        "\n",
        "print(\"OR({}, {}) = {}\".format(1, 1, OR_percep(example1)))\n",
        "print(\"OR({}, {}) = {}\".format(1, 0, OR_percep(example2)))\n",
        "print(\"OR({}, {}) = {}\".format(0, 1, OR_percep(example3)))\n",
        "print(\"OR({}, {}) = {}\".format(0, 0, OR_percep(example4)))"
      ],
      "metadata": {
        "colab": {
          "base_uri": "https://localhost:8080/"
        },
        "id": "nlgj1KtoGZ-k",
        "outputId": "3d0cad50-83c7-4287-e601-3813c9138a1b"
      },
      "execution_count": null,
      "outputs": [
        {
          "output_type": "stream",
          "name": "stdout",
          "text": [
            "OR(1, 1) = 1\n",
            "OR(1, 0) = 1\n",
            "OR(0, 1) = 1\n",
            "OR(0, 0) = 0\n"
          ]
        }
      ]
    },
    {
      "cell_type": "markdown",
      "source": [
        "XOR gate"
      ],
      "metadata": {
        "id": "pmyM0WhdG_qG"
      }
    },
    {
      "cell_type": "code",
      "source": [
        "\n",
        "def XOR_net(x):\n",
        "    gate_1 = AND_percep(x)\n",
        "    gate_2 = NOT_percep(gate_1)\n",
        "    gate_3 = OR_percep(x)\n",
        "    new_x = np.array([gate_2, gate_3])\n",
        "    output = AND_percep(new_x)\n",
        "    return output\n",
        "\n",
        "print(\"XOR({}, {}) = {}\".format(1, 1, XOR_net(example1)))\n",
        "print(\"XOR({}, {}) = {}\".format(1, 0, XOR_net(example2)))\n",
        "print(\"XOR({}, {}) = {}\".format(0, 1, XOR_net(example3)))\n",
        "print(\"XOR({}, {}) = {}\".format(0, 0, XOR_net(example4)))"
      ],
      "metadata": {
        "colab": {
          "base_uri": "https://localhost:8080/"
        },
        "id": "0awUS_iSGlVV",
        "outputId": "81199ab7-7368-454e-d812-2808cb1c2a88"
      },
      "execution_count": null,
      "outputs": [
        {
          "output_type": "stream",
          "name": "stdout",
          "text": [
            "XOR(1, 1) = 0\n",
            "XOR(1, 0) = 1\n",
            "XOR(0, 1) = 1\n",
            "XOR(0, 0) = 0\n"
          ]
        }
      ]
    }
  ]
}