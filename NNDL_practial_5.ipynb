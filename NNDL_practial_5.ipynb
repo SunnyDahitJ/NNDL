{
  "nbformat": 4,
  "nbformat_minor": 0,
  "metadata": {
    "colab": {
      "provenance": [],
      "authorship_tag": "ABX9TyNYSWwSLypuUUikjh05a294",
      "include_colab_link": true
    },
    "kernelspec": {
      "name": "python3",
      "display_name": "Python 3"
    },
    "language_info": {
      "name": "python"
    }
  },
  "cells": [
    {
      "cell_type": "markdown",
      "metadata": {
        "id": "view-in-github",
        "colab_type": "text"
      },
      "source": [
        "<a href=\"https://colab.research.google.com/github/SunnyDahitJ/NNDL/blob/main/NNDL_practial_5.ipynb\" target=\"_parent\"><img src=\"https://colab.research.google.com/assets/colab-badge.svg\" alt=\"Open In Colab\"/></a>"
      ]
    },
    {
      "cell_type": "code",
      "execution_count": null,
      "metadata": {
        "colab": {
          "base_uri": "https://localhost:8080/"
        },
        "id": "m220DVZT76oD",
        "outputId": "a9837e50-38b7-4ca9-9561-d9438fea23a7"
      },
      "outputs": [
        {
          "output_type": "stream",
          "name": "stdout",
          "text": [
            "[[1 1 1 1]\n",
            " [1 1 1 1]\n",
            " [1 1 1 1]\n",
            " [1 1 1 1]]\n",
            "[[1 0 0]\n",
            " [0 1 0]\n",
            " [0 0 1]]\n"
          ]
        }
      ],
      "source": [
        "from numpy.core.numeric import identity\n",
        "import numpy as np\n",
        "\n",
        "#default data type for ones matrix is float\n",
        "n_ones =  np.ones((4,4), dtype = int)\n",
        "\n",
        "print(n_ones)\n",
        "\n",
        "n_identity = np.identity(3, dtype=int)\n",
        "\n",
        "print(n_identity)"
      ]
    }
  ]
}