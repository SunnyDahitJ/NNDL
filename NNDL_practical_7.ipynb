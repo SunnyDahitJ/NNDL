{
  "nbformat": 4,
  "nbformat_minor": 0,
  "metadata": {
    "colab": {
      "provenance": [],
      "authorship_tag": "ABX9TyM01qonvh5Pxbd7MtoGgsgb",
      "include_colab_link": true
    },
    "kernelspec": {
      "name": "python3",
      "display_name": "Python 3"
    },
    "language_info": {
      "name": "python"
    }
  },
  "cells": [
    {
      "cell_type": "markdown",
      "metadata": {
        "id": "view-in-github",
        "colab_type": "text"
      },
      "source": [
        "<a href=\"https://colab.research.google.com/github/SunnyDahitJ/NNDL/blob/main/NNDL_practical_7.ipynb\" target=\"_parent\"><img src=\"https://colab.research.google.com/assets/colab-badge.svg\" alt=\"Open In Colab\"/></a>"
      ]
    },
    {
      "cell_type": "code",
      "execution_count": 1,
      "metadata": {
        "id": "wCnraO6wlBbz"
      },
      "outputs": [],
      "source": [
        "from math import exp\n",
        "from random import seed\n",
        "from random import random\n",
        "import numpy as np\n",
        "\n",
        "seed(1)"
      ]
    },
    {
      "cell_type": "code",
      "source": [
        "class POOL_TYPE:\n",
        "  MAX = \"max\"\n",
        "  AVG = \"avg\"\n",
        "  SUM = \"sum\"\n",
        "\n",
        "  def __str__(self):\n",
        "    return \"Pooling types available: POOL_TYPE.MAX, POOL_TYPE.AVG, and POOL_TYPE.SUM\"\n",
        "\n",
        "class InvalidPoolingTypeException(Exception):\n",
        "  pass"
      ],
      "metadata": {
        "id": "7DbMifVTlJ17"
      },
      "execution_count": 2,
      "outputs": []
    },
    {
      "cell_type": "code",
      "source": [
        "data = np.array([\n",
        "    [1, 0, 1, 1, 0],\n",
        "    [0, 0, 0, 1, 1],\n",
        "    [1, 0, 0, 0, 1],\n",
        "    [0, 1, 1, 1, 0],\n",
        "    [1, 1, 0, 1, 0]\n",
        "])\n",
        "\n",
        "kernel = np.array([\n",
        "    [1, 0, 0],\n",
        "    [0, 0, 1],\n",
        "    [1, 1, 0]\n",
        "])"
      ],
      "metadata": {
        "id": "O3pSfObilKBJ"
      },
      "execution_count": 3,
      "outputs": []
    },
    {
      "cell_type": "code",
      "source": [
        "def do_stride(data: np.array, kernel: np.array, stride: int) -> np.array:\n",
        "  output = []\n",
        "  row, col = 0, 0\n",
        "\n",
        "  while row + len(kernel) <= len(data):\n",
        "    output_row = []\n",
        "    output.append(output_row)\n",
        "    col = 0\n",
        "\n",
        "    while col + len(kernel) <= len(data[0]):\n",
        "      output_row.append(np.sum(data[row:row + len(kernel), col:col + len(kernel)] * kernel))\n",
        "      col += stride\n",
        "    \n",
        "    row += stride\n",
        "  \n",
        "  return np.array(output)"
      ],
      "metadata": {
        "id": "SPAivllwlKLw"
      },
      "execution_count": 4,
      "outputs": []
    },
    {
      "cell_type": "code",
      "source": [
        "def pooling(data: np.array, pool_type: POOL_TYPE = POOL_TYPE.MAX, pooling_size: int = 2) -> np.array:\n",
        "  output = []\n",
        "  row, col = 0, 0\n",
        "\n",
        "  while row + pooling_size <= len(data):\n",
        "    output_row = []\n",
        "    output.append(output_row)\n",
        "    col = 0\n",
        "\n",
        "    while col + pooling_size <= len(data[0]):\n",
        "      if pool_type == POOL_TYPE.MAX:\n",
        "        output_row.append(np.amax(data[row:row + pooling_size, col:col + pooling_size]))\n",
        "      elif pool_type == POOL_TYPE.AVG:\n",
        "        output_row.append(np.average(data[row:row + pooling_size, col:col + pooling_size]))\n",
        "      elif pool_type == POOL_TYPE.SUM:\n",
        "        output_row.append(np.sum(data[row:row + pooling_size, col:col + pooling_size]))\n",
        "      else:\n",
        "        raise InvalidPoolingTypeException(f\"No pooling type { pool_type }. { POOL_TYPE() }\")\n",
        "      col += 1\n",
        "    \n",
        "    row += 1\n",
        "  \n",
        "  return np.array(output)"
      ],
      "metadata": {
        "id": "-yrcM5TalKWI"
      },
      "execution_count": 5,
      "outputs": []
    },
    {
      "cell_type": "code",
      "source": [
        "stride1 = do_stride(data, kernel, 1)\n",
        "stride2 = do_stride(data, kernel, 2)\n",
        "\n",
        "print(\"Stride 1:\\n\", stride1)\n",
        "print(\"\\nStride 2:\\n\", stride2)"
      ],
      "metadata": {
        "colab": {
          "base_uri": "https://localhost:8080/"
        },
        "id": "ejZtKu8nlKfe",
        "outputId": "3b90a5b0-7a00-49b0-8081-9853d262965e"
      },
      "execution_count": 6,
      "outputs": [
        {
          "output_type": "stream",
          "name": "stdout",
          "text": [
            "Stride 1:\n",
            " [[2 1 2]\n",
            " [1 2 3]\n",
            " [4 2 1]]\n",
            "\n",
            "Stride 2:\n",
            " [[2 2]\n",
            " [4 1]]\n"
          ]
        }
      ]
    },
    {
      "cell_type": "code",
      "source": [
        "max_pool_1 = pooling(stride1)\n",
        "avg_pool_1 = pooling(stride1, POOL_TYPE.AVG)\n",
        "sum_pool_1 = pooling(stride1, POOL_TYPE.SUM)\n",
        "\n",
        "print(\"Max pooling on stride 1:\\n\", max_pool_1)\n",
        "print(\"Average pooling on stride 1:\\n\", avg_pool_1)\n",
        "print(\"Sum pooling on stride 1:\\n\", sum_pool_1)\n",
        "\n",
        "max_pool_2 = pooling(stride2)\n",
        "avg_pool_2 = pooling(stride2, POOL_TYPE.AVG)\n",
        "sum_pool_2 = pooling(stride2, POOL_TYPE.SUM)\n",
        "\n",
        "print(\"\\nMax pooling on stride 1:\\n\", max_pool_2)\n",
        "print(\"Average pooling on stride 1:\\n\", avg_pool_2)\n",
        "print(\"Sum pooling on stride 1:\\n\", sum_pool_2)"
      ],
      "metadata": {
        "colab": {
          "base_uri": "https://localhost:8080/"
        },
        "id": "H2b_tSMZlLXS",
        "outputId": "63cbec1a-29e3-4ee3-a38f-ef81f79bf195"
      },
      "execution_count": 7,
      "outputs": [
        {
          "output_type": "stream",
          "name": "stdout",
          "text": [
            "Max pooling on stride 1:\n",
            " [[2 3]\n",
            " [4 3]]\n",
            "Average pooling on stride 1:\n",
            " [[1.5  2.  ]\n",
            " [2.25 2.  ]]\n",
            "Sum pooling on stride 1:\n",
            " [[6 8]\n",
            " [9 8]]\n",
            "\n",
            "Max pooling on stride 1:\n",
            " [[4]]\n",
            "Average pooling on stride 1:\n",
            " [[2.25]]\n",
            "Sum pooling on stride 1:\n",
            " [[9]]\n"
          ]
        }
      ]
    },
    {
      "cell_type": "code",
      "source": [
        "for label, data in zip(\n",
        "    [\"Max Pooling Stride 1\", \"Avg Pooling Stride 1\", \"Sum Pooling Stride 1\", \"Max Pooling Stride 2\", \"Avg Pooling Stride 2\", \"Sum Pooling Stride 2\"],\n",
        "    [max_pool_1, avg_pool_1, sum_pool_1, max_pool_2, avg_pool_2, sum_pool_2]\n",
        "):\n",
        "  print(label, \"\\n\", data.flatten())"
      ],
      "metadata": {
        "colab": {
          "base_uri": "https://localhost:8080/"
        },
        "id": "MdVSFThglYMC",
        "outputId": "8da2a676-5d51-4fad-eb08-5f98b2d0a43b"
      },
      "execution_count": 8,
      "outputs": [
        {
          "output_type": "stream",
          "name": "stdout",
          "text": [
            "Max Pooling Stride 1 \n",
            " [2 3 4 3]\n",
            "Avg Pooling Stride 1 \n",
            " [1.5  2.   2.25 2.  ]\n",
            "Sum Pooling Stride 1 \n",
            " [6 8 9 8]\n",
            "Max Pooling Stride 2 \n",
            " [4]\n",
            "Avg Pooling Stride 2 \n",
            " [2.25]\n",
            "Sum Pooling Stride 2 \n",
            " [9]\n"
          ]
        }
      ]
    }
  ]
}